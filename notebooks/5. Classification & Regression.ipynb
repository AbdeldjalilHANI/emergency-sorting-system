{
 "cells": [
  {
   "cell_type": "code",
   "execution_count": 1,
   "id": "b91595cd-5ce6-4ab1-996b-58c98c5ccd0a",
   "metadata": {},
   "outputs": [],
   "source": [
    "import pandas as pd\n",
    "import numpy as np\n",
    "from sklearn.model_selection import train_test_split\n",
    "from sklearn.ensemble import VotingClassifier\n",
    "from sklearn.svm import SVC\n",
    "from sklearn.tree import DecisionTreeClassifier\n",
    "from sklearn.neighbors import KNeighborsClassifier\n",
    "from sklearn.linear_model import Ridge\n",
    "from sklearn.ensemble import GradientBoostingRegressor\n",
    "from sklearn.metrics import classification_report, mean_squared_error\n",
    "from sklearn.pipeline import Pipeline"
   ]
  },
  {
   "cell_type": "code",
   "execution_count": 2,
   "id": "9d87b068-f184-4436-8b14-914d496e02a3",
   "metadata": {},
   "outputs": [],
   "source": [
    "# Load your preprocessed dataset\n",
    "df = pd.read_excel(\"/home/abdeldjalil-hani/Desktop/emergency-sorting-system/data-sets/4. Scored Classified Preprocessed DATA.xlsx\")  # replace with your actual path"
   ]
  },
  {
   "cell_type": "code",
   "execution_count": 3,
   "id": "6c062fa1-dfdb-42dd-8843-5133512614a0",
   "metadata": {},
   "outputs": [],
   "source": [
    "# Features and labels\n",
    "X = df.drop(columns=['Emergency_Level', 'Score'])\n",
    "y_cls = df['Emergency_Level']\n",
    "y_reg = df['Score']"
   ]
  },
  {
   "cell_type": "code",
   "execution_count": 4,
   "id": "2379c7b1-ebe7-4101-b1d4-827c95e66c18",
   "metadata": {},
   "outputs": [],
   "source": [
    "# Split dataset\n",
    "X_train, X_test, y_cls_train, y_cls_test, y_reg_train, y_reg_test = train_test_split(\n",
    "    X, y_cls, y_reg, test_size=0.2, random_state=42\n",
    ")"
   ]
  },
  {
   "cell_type": "code",
   "execution_count": 5,
   "id": "1e340a8c-904b-4707-ad3c-8425ab877eb2",
   "metadata": {},
   "outputs": [],
   "source": [
    "# ---- CLASSIFICATION ---- #\n",
    "# Define base models\n",
    "clf1 = SVC(probability=True, random_state=42)\n",
    "clf2 = DecisionTreeClassifier(random_state=42)\n",
    "clf3 = KNeighborsClassifier()\n",
    "\n",
    "# Voting Classifier\n",
    "voting_clf = VotingClassifier(\n",
    "    estimators=[('svm', clf1), ('dt', clf2), ('knn', clf3)],\n",
    "    voting='soft'\n",
    ")"
   ]
  },
  {
   "cell_type": "code",
   "execution_count": 6,
   "id": "43bd23ed-37fc-4cb0-a1d6-498efa42afde",
   "metadata": {},
   "outputs": [
    {
     "name": "stdout",
     "output_type": "stream",
     "text": [
      "Classification Report:\n",
      "                    precision    recall  f1-score   support\n",
      "\n",
      "     Emergent (L2)       0.91      0.95      0.93       490\n",
      "  Less Urgent (L4)       0.97      0.83      0.89       180\n",
      "   Non-Urgent (L5)       0.98      0.97      0.98        64\n",
      "Resuscitation (L1)       0.92      0.94      0.93       543\n",
      "       Urgent (L3)       1.00      0.98      0.99       116\n",
      "\n",
      "          accuracy                           0.93      1393\n",
      "         macro avg       0.96      0.93      0.94      1393\n",
      "      weighted avg       0.93      0.93      0.93      1393\n",
      "\n"
     ]
    }
   ],
   "source": [
    "# Fit classification model\n",
    "voting_clf.fit(X_train, y_cls_train)\n",
    "y_cls_pred = voting_clf.predict(X_test)\n",
    "\n",
    "print(\"Classification Report:\")\n",
    "print(classification_report(y_cls_test, y_cls_pred))"
   ]
  },
  {
   "cell_type": "code",
   "execution_count": 7,
   "id": "9062f3dc-7cb4-44d7-b48e-5dd1075b28f1",
   "metadata": {},
   "outputs": [],
   "source": [
    "# ---- REGRESSION WITHIN EACH CLASS ---- #\n",
    "# Append predicted emergency levels\n",
    "X_test_copy = X_test.copy()\n",
    "X_test_copy['Predicted_Class'] = y_cls_pred\n",
    "X_test_copy['True_Score'] = y_reg_test.values"
   ]
  },
  {
   "cell_type": "code",
   "execution_count": 8,
   "id": "d00dbde1-8d29-4056-8a0f-976c3d06006b",
   "metadata": {},
   "outputs": [
    {
     "name": "stdout",
     "output_type": "stream",
     "text": [
      "\n",
      "Training regressor for Emergency_Level = Emergent (L2)\n",
      "RMSE for level Emergent (L2): 3.3132748734393505\n",
      "\n",
      "Training regressor for Emergency_Level = Less Urgent (L4)\n",
      "RMSE for level Less Urgent (L4): 2.478525607514781\n",
      "\n",
      "Training regressor for Emergency_Level = Non-Urgent (L5)\n",
      "RMSE for level Non-Urgent (L5): 1.4055504093766171\n",
      "\n",
      "Training regressor for Emergency_Level = Resuscitation (L1)\n",
      "RMSE for level Resuscitation (L1): 3.4527072074174145\n",
      "\n",
      "Training regressor for Emergency_Level = Urgent (L3)\n",
      "RMSE for level Urgent (L3): 2.3739718130185388\n"
     ]
    }
   ],
   "source": [
    "# Dictionary to store models for each class\n",
    "regressors = {}\n",
    "\n",
    "# Loop over each class and train a regressor\n",
    "for level in sorted(df['Emergency_Level'].unique()):\n",
    "    print(f\"\\nTraining regressor for Emergency_Level = {level}\")\n",
    "    X_class = X_train[y_cls_train == level]\n",
    "    y_class = y_reg_train[y_cls_train == level]\n",
    "\n",
    "    # GradientBoostingRegressor is a good choice for regression here\n",
    "    reg = GradientBoostingRegressor(random_state=42)\n",
    "    reg.fit(X_class, y_class)\n",
    "    regressors[level] = reg\n",
    "\n",
    "    # Optional: Evaluate on training class subset\n",
    "    preds = reg.predict(X_class)\n",
    "    print(f\"RMSE for level {level}: {np.sqrt(mean_squared_error(y_class, preds))}\")"
   ]
  },
  {
   "cell_type": "code",
   "execution_count": 9,
   "id": "de6e38f4-e6a2-4689-a71b-5636914a1b39",
   "metadata": {},
   "outputs": [
    {
     "name": "stdout",
     "output_type": "stream",
     "text": [
      "All models saved successfully.\n"
     ]
    }
   ],
   "source": [
    "import joblib\n",
    "import os\n",
    "\n",
    "# Create a directory to store models\n",
    "os.makedirs(\"/home/abdeldjalil-hani/Desktop/emergency-sorting-system/saved-models\", exist_ok=True)\n",
    "\n",
    "# Save the classification model\n",
    "joblib.dump(voting_clf, \"/home/abdeldjalil-hani/Desktop/emergency-sorting-system/saved-models/classifier_voting_model.pkl\")\n",
    "\n",
    "# Save each regressor by class\n",
    "for level, model in regressors.items():\n",
    "    joblib.dump(model, f\"/home/abdeldjalil-hani/Desktop/emergency-sorting-system/saved-models/regressor_level_{level}.pkl\")\n",
    "\n",
    "print(\"All models saved successfully.\")"
   ]
  }
 ],
 "metadata": {
  "kernelspec": {
   "display_name": ".venv",
   "language": "python",
   "name": "python3"
  },
  "language_info": {
   "codemirror_mode": {
    "name": "ipython",
    "version": 3
   },
   "file_extension": ".py",
   "mimetype": "text/x-python",
   "name": "python",
   "nbconvert_exporter": "python",
   "pygments_lexer": "ipython3",
   "version": "3.12.3"
  }
 },
 "nbformat": 4,
 "nbformat_minor": 5
}
