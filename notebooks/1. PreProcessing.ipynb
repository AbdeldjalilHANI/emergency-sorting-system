{
 "cells": [
  {
   "cell_type": "code",
   "execution_count": 4,
   "id": "04f1e40d-8694-4e98-bbc3-1c083c0ee480",
   "metadata": {},
   "outputs": [],
   "source": [
    "import pandas as pd\n",
    "from sklearn.preprocessing import LabelEncoder\n",
    "from sklearn.cluster import KMeans, AgglomerativeClustering\n",
    "from sklearn.mixture import GaussianMixture\n",
    "from sklearn.metrics import silhouette_score, davies_bouldin_score, calinski_harabasz_score"
   ]
  },
  {
   "cell_type": "code",
   "execution_count": 7,
   "id": "e33cb04d-8692-44ce-b705-689c95e29fc7",
   "metadata": {},
   "outputs": [],
   "source": [
    "df = pd.read_excel(\"/home/abdeldjalil-hani/Desktop/emergency-sorting-system/data-sets/0. DATA.xlsx\")"
   ]
  },
  {
   "cell_type": "code",
   "execution_count": 8,
   "id": "05a527b7-54e7-4add-a94f-e3f8f396d65b",
   "metadata": {},
   "outputs": [
    {
     "name": "stdout",
     "output_type": "stream",
     "text": [
      "<class 'pandas.core.frame.DataFrame'>\n",
      "RangeIndex: 6962 entries, 0 to 6961\n",
      "Data columns (total 24 columns):\n",
      " #   Column                          Non-Null Count  Dtype  \n",
      "---  ------                          --------------  -----  \n",
      " 0   ID                              6962 non-null   int64  \n",
      " 1   age                             6962 non-null   int64  \n",
      " 2   gender                          6961 non-null   float64\n",
      " 3   chest pain type                 6962 non-null   int64  \n",
      " 4   cholesterol                     6962 non-null   int64  \n",
      " 5   exercise angina                 6962 non-null   int64  \n",
      " 6   plasma glucose                  6962 non-null   float64\n",
      " 7   skin_thickness                  6962 non-null   int64  \n",
      " 8   bmi                             6962 non-null   float64\n",
      " 9   hypertension                    6962 non-null   int64  \n",
      " 10  heart_disease                   6962 non-null   int64  \n",
      " 11  Residence_type                  6962 non-null   object \n",
      " 12  smoking_status                  6962 non-null   object \n",
      " 13  Symptom                         6962 non-null   object \n",
      " 14  Temperature (¬∞C)               6962 non-null   float64\n",
      " 15  Heart Rate (bpm)                6962 non-null   int64  \n",
      " 16  Respiratory Rate (breaths/min)  6962 non-null   int64  \n",
      " 17  Blood Pressure (mmHg)           6962 non-null   object \n",
      " 18  SpO2 (%)                        6962 non-null   int64  \n",
      " 19  Glasgow Score                   6962 non-null   int64  \n",
      " 20  Consciousness                   6962 non-null   object \n",
      " 21  Massive Bleeding                6962 non-null   bool   \n",
      " 22  Respiratory Distress            6962 non-null   bool   \n",
      " 23  Risk Factors                    5798 non-null   object \n",
      "dtypes: bool(2), float64(4), int64(12), object(6)\n",
      "memory usage: 1.2+ MB\n"
     ]
    }
   ],
   "source": [
    "df.info()"
   ]
  },
  {
   "cell_type": "code",
   "execution_count": 9,
   "id": "7fec7de0-4fbf-472b-81f3-e26fac03d0e4",
   "metadata": {},
   "outputs": [],
   "source": [
    "def preprocess_data(df):\n",
    "    df['Risk Factors'] = df['Risk Factors'].fillna('No Risk Factor')\n",
    "    df['gender'] = df['gender'].fillna(1)\n",
    "    df = df.drop(columns=['ID'])\n",
    "\n",
    "    df[['blood_pressure', 'heart_pressure']] = df['Blood Pressure (mmHg)'].str.split('/', expand=True)\n",
    "    df['blood_pressure'] = df['blood_pressure'].astype(int)\n",
    "    df['heart_pressure'] = df['heart_pressure'].astype(int)\n",
    "    df = df.drop(columns=['Blood Pressure (mmHg)'])\n",
    "\n",
    "    label_encoders = {}\n",
    "    categorical_columns = ['Residence_type', 'smoking_status', 'Symptom', 'Consciousness', 'Risk Factors', 'Massive Bleeding', 'Respiratory Distress']\n",
    "\n",
    "    for col in categorical_columns:\n",
    "        le = LabelEncoder()\n",
    "        df[col] = le.fit_transform(df[col])\n",
    "        label_encoders[col] = le\n",
    "        print(f\"Encoding for '{col}':\")\n",
    "        for cls, code in zip(le.classes_, le.transform(le.classes_)):\n",
    "            print(f\"  {cls} --> {code}\")\n",
    "        print()\n",
    "\n",
    "    return df, label_encoders"
   ]
  },
  {
   "cell_type": "code",
   "execution_count": 11,
   "id": "a6db53b5-337c-4cd8-8a41-eb52eaaf46c1",
   "metadata": {
    "scrolled": true
   },
   "outputs": [
    {
     "name": "stdout",
     "output_type": "stream",
     "text": [
      "Encoding for 'Residence_type':\n",
      "  Rural --> 0\n",
      "  Urban --> 1\n",
      "\n",
      "Encoding for 'smoking_status':\n",
      "  Unknown --> 0\n",
      "  formerly smoked --> 1\n",
      "  never smoked --> 2\n",
      "  smokes --> 3\n",
      "\n",
      "Encoding for 'Symptom':\n",
      "  Abdominal pain --> 0\n",
      "  Abdominal pain, Chest pain --> 1\n",
      "  Abdominal pain, Difficulty breathing --> 2\n",
      "  Abdominal pain, Fever --> 3\n",
      "  Abdominal pain, Headache --> 4\n",
      "  Abdominal pain, Weakness --> 5\n",
      "  Chest pain --> 6\n",
      "  Chest pain, Abdominal pain --> 7\n",
      "  Chest pain, Difficulty breathing --> 8\n",
      "  Chest pain, Fever --> 9\n",
      "  Chest pain, Headache --> 10\n",
      "  Chest pain, Weakness --> 11\n",
      "  Difficulty breathing --> 12\n",
      "  Difficulty breathing, Abdominal pain --> 13\n",
      "  Difficulty breathing, Chest pain --> 14\n",
      "  Difficulty breathing, Fever --> 15\n",
      "  Difficulty breathing, Headache --> 16\n",
      "  Difficulty breathing, Weakness --> 17\n",
      "  Fever --> 18\n",
      "  Fever, Abdominal pain --> 19\n",
      "  Fever, Chest pain --> 20\n",
      "  Fever, Difficulty breathing --> 21\n",
      "  Fever, Headache --> 22\n",
      "  Fever, Weakness --> 23\n",
      "  Headache --> 24\n",
      "  Headache, Abdominal pain --> 25\n",
      "  Headache, Chest pain --> 26\n",
      "  Headache, Difficulty breathing --> 27\n",
      "  Headache, Fever --> 28\n",
      "  Headache, Weakness --> 29\n",
      "  Weakness --> 30\n",
      "  Weakness, Abdominal pain --> 31\n",
      "  Weakness, Chest pain --> 32\n",
      "  Weakness, Difficulty breathing --> 33\n",
      "  Weakness, Fever --> 34\n",
      "  Weakness, Headache --> 35\n",
      "\n",
      "Encoding for 'Consciousness':\n",
      "  Awake --> 0\n",
      "  Responds to Pain --> 1\n",
      "  Unconscious --> 2\n",
      "\n",
      "Encoding for 'Risk Factors':\n",
      "  Cancer --> 0\n",
      "  Cancer, Cardiovascular disease --> 1\n",
      "  Cancer, Diabetes --> 2\n",
      "  Cancer, Hypertension --> 3\n",
      "  Cancer, None --> 4\n",
      "  Cancer, kidney failure --> 5\n",
      "  Cardiovascular disease --> 6\n",
      "  Cardiovascular disease, Cancer --> 7\n",
      "  Cardiovascular disease, Diabetes --> 8\n",
      "  Cardiovascular disease, Hypertension --> 9\n",
      "  Cardiovascular disease, None --> 10\n",
      "  Cardiovascular disease, kidney failure --> 11\n",
      "  Diabetes --> 12\n",
      "  Diabetes, Cancer --> 13\n",
      "  Diabetes, Cardiovascular disease --> 14\n",
      "  Diabetes, Hypertension --> 15\n",
      "  Diabetes, None --> 16\n",
      "  Diabetes, kidney failure --> 17\n",
      "  Hypertension --> 18\n",
      "  Hypertension, Cancer --> 19\n",
      "  Hypertension, Cardiovascular disease --> 20\n",
      "  Hypertension, Diabetes --> 21\n",
      "  Hypertension, None --> 22\n",
      "  Hypertension, kidney failure --> 23\n",
      "  No Risk Factor --> 24\n",
      "  kidney failure --> 25\n",
      "  kidney failure, Cancer --> 26\n",
      "  kidney failure, Cardiovascular disease --> 27\n",
      "  kidney failure, Diabetes --> 28\n",
      "  kidney failure, Hypertension --> 29\n",
      "  kidney failure, None --> 30\n",
      "\n",
      "Encoding for 'Massive Bleeding':\n",
      "  False --> 0\n",
      "  True --> 1\n",
      "\n",
      "Encoding for 'Respiratory Distress':\n",
      "  False --> 0\n",
      "  True --> 1\n",
      "\n"
     ]
    }
   ],
   "source": [
    "df_processed, encoders = preprocess_data(df)\n",
    "df_processed.to_excel(\"/home/abdeldjalil-hani/Desktop/emergency-sorting-system/data-sets/1. PreProcessed DATA.xlsx\", index=False)"
   ]
  },
  {
   "cell_type": "code",
   "execution_count": 12,
   "id": "c2aa9680-cf07-4aad-86b1-b130cbed2ea7",
   "metadata": {},
   "outputs": [
    {
     "name": "stdout",
     "output_type": "stream",
     "text": [
      "<class 'pandas.core.frame.DataFrame'>\n",
      "RangeIndex: 6962 entries, 0 to 6961\n",
      "Data columns (total 24 columns):\n",
      " #   Column                          Non-Null Count  Dtype  \n",
      "---  ------                          --------------  -----  \n",
      " 0   age                             6962 non-null   int64  \n",
      " 1   gender                          6962 non-null   float64\n",
      " 2   chest pain type                 6962 non-null   int64  \n",
      " 3   cholesterol                     6962 non-null   int64  \n",
      " 4   exercise angina                 6962 non-null   int64  \n",
      " 5   plasma glucose                  6962 non-null   float64\n",
      " 6   skin_thickness                  6962 non-null   int64  \n",
      " 7   bmi                             6962 non-null   float64\n",
      " 8   hypertension                    6962 non-null   int64  \n",
      " 9   heart_disease                   6962 non-null   int64  \n",
      " 10  Residence_type                  6962 non-null   int64  \n",
      " 11  smoking_status                  6962 non-null   int64  \n",
      " 12  Symptom                         6962 non-null   int64  \n",
      " 13  Temperature (¬∞C)               6962 non-null   float64\n",
      " 14  Heart Rate (bpm)                6962 non-null   int64  \n",
      " 15  Respiratory Rate (breaths/min)  6962 non-null   int64  \n",
      " 16  SpO2 (%)                        6962 non-null   int64  \n",
      " 17  Glasgow Score                   6962 non-null   int64  \n",
      " 18  Consciousness                   6962 non-null   int64  \n",
      " 19  Massive Bleeding                6962 non-null   int64  \n",
      " 20  Respiratory Distress            6962 non-null   int64  \n",
      " 21  Risk Factors                    6962 non-null   int64  \n",
      " 22  blood_pressure                  6962 non-null   int64  \n",
      " 23  heart_pressure                  6962 non-null   int64  \n",
      "dtypes: float64(4), int64(20)\n",
      "memory usage: 1.3 MB\n"
     ]
    }
   ],
   "source": [
    "df_processed.info()"
   ]
  },
  {
   "cell_type": "code",
   "execution_count": null,
   "id": "e27c8620-c328-4da9-8201-8bd3b05b0026",
   "metadata": {},
   "outputs": [],
   "source": []
  }
 ],
 "metadata": {
  "kernelspec": {
   "display_name": ".venv",
   "language": "python",
   "name": "python3"
  },
  "language_info": {
   "codemirror_mode": {
    "name": "ipython",
    "version": 3
   },
   "file_extension": ".py",
   "mimetype": "text/x-python",
   "name": "python",
   "nbconvert_exporter": "python",
   "pygments_lexer": "ipython3",
   "version": "3.12.3"
  }
 },
 "nbformat": 4,
 "nbformat_minor": 5
}
